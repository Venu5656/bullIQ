{
 "cells": [
  {
   "cell_type": "code",
   "execution_count": 1,
   "metadata": {},
   "outputs": [
    {
     "name": "stdout",
     "output_type": "stream",
     "text": [
      "Defaulting to user installation because normal site-packages is not writeable\n",
      "Requirement already satisfied: newspaper3k in /Users/venusikhakolli/Library/Python/3.9/lib/python/site-packages (0.2.8)\n",
      "Requirement already satisfied: requests in /Users/venusikhakolli/Library/Python/3.9/lib/python/site-packages (2.32.3)\n",
      "Requirement already satisfied: pandas in /Users/venusikhakolli/Library/Python/3.9/lib/python/site-packages (2.2.2)\n",
      "Requirement already satisfied: beautifulsoup4>=4.4.1 in /Users/venusikhakolli/Library/Python/3.9/lib/python/site-packages (from newspaper3k) (4.12.3)\n",
      "Requirement already satisfied: Pillow>=3.3.0 in /Users/venusikhakolli/Library/Python/3.9/lib/python/site-packages (from newspaper3k) (11.0.0)\n",
      "Requirement already satisfied: PyYAML>=3.11 in /Users/venusikhakolli/Library/Python/3.9/lib/python/site-packages (from newspaper3k) (6.0.2)\n",
      "Requirement already satisfied: cssselect>=0.9.2 in /Users/venusikhakolli/Library/Python/3.9/lib/python/site-packages (from newspaper3k) (1.3.0)\n",
      "Requirement already satisfied: lxml>=3.6.0 in /Users/venusikhakolli/Library/Python/3.9/lib/python/site-packages (from newspaper3k) (5.3.0)\n",
      "Requirement already satisfied: nltk>=3.2.1 in /Users/venusikhakolli/Library/Python/3.9/lib/python/site-packages (from newspaper3k) (3.9.1)\n",
      "Requirement already satisfied: feedparser>=5.2.1 in /Users/venusikhakolli/Library/Python/3.9/lib/python/site-packages (from newspaper3k) (6.0.11)\n",
      "Requirement already satisfied: tldextract>=2.0.1 in /Users/venusikhakolli/Library/Python/3.9/lib/python/site-packages (from newspaper3k) (5.2.0)\n",
      "Requirement already satisfied: feedfinder2>=0.0.4 in /Users/venusikhakolli/Library/Python/3.9/lib/python/site-packages (from newspaper3k) (0.0.4)\n",
      "Requirement already satisfied: jieba3k>=0.35.1 in /Users/venusikhakolli/Library/Python/3.9/lib/python/site-packages (from newspaper3k) (0.35.1)\n",
      "Requirement already satisfied: python-dateutil>=2.5.3 in /Users/venusikhakolli/Library/Python/3.9/lib/python/site-packages (from newspaper3k) (2.9.0.post0)\n",
      "Requirement already satisfied: tinysegmenter==0.3 in /Users/venusikhakolli/Library/Python/3.9/lib/python/site-packages (from newspaper3k) (0.3)\n",
      "Requirement already satisfied: charset-normalizer<4,>=2 in /Users/venusikhakolli/Library/Python/3.9/lib/python/site-packages (from requests) (3.4.0)\n",
      "Requirement already satisfied: idna<4,>=2.5 in /Users/venusikhakolli/Library/Python/3.9/lib/python/site-packages (from requests) (3.10)\n",
      "Requirement already satisfied: urllib3<3,>=1.21.1 in /Users/venusikhakolli/Library/Python/3.9/lib/python/site-packages (from requests) (2.2.3)\n",
      "Requirement already satisfied: certifi>=2017.4.17 in /Users/venusikhakolli/Library/Python/3.9/lib/python/site-packages (from requests) (2024.8.30)\n",
      "Requirement already satisfied: numpy>=1.22.4 in /Users/venusikhakolli/Library/Python/3.9/lib/python/site-packages (from pandas) (1.26.4)\n",
      "Requirement already satisfied: pytz>=2020.1 in /Users/venusikhakolli/Library/Python/3.9/lib/python/site-packages (from pandas) (2024.2)\n",
      "Requirement already satisfied: tzdata>=2022.7 in /Users/venusikhakolli/Library/Python/3.9/lib/python/site-packages (from pandas) (2024.1)\n",
      "Requirement already satisfied: soupsieve>1.2 in /Users/venusikhakolli/Library/Python/3.9/lib/python/site-packages (from beautifulsoup4>=4.4.1->newspaper3k) (2.6)\n",
      "Requirement already satisfied: six in /Applications/Xcode.app/Contents/Developer/Library/Frameworks/Python3.framework/Versions/3.9/lib/python3.9/site-packages (from feedfinder2>=0.0.4->newspaper3k) (1.15.0)\n",
      "Requirement already satisfied: sgmllib3k in /Users/venusikhakolli/Library/Python/3.9/lib/python/site-packages (from feedparser>=5.2.1->newspaper3k) (1.0.0)\n",
      "Requirement already satisfied: click in /Users/venusikhakolli/Library/Python/3.9/lib/python/site-packages (from nltk>=3.2.1->newspaper3k) (8.1.7)\n",
      "Requirement already satisfied: joblib in /Users/venusikhakolli/Library/Python/3.9/lib/python/site-packages (from nltk>=3.2.1->newspaper3k) (1.4.2)\n",
      "Requirement already satisfied: regex>=2021.8.3 in /Users/venusikhakolli/Library/Python/3.9/lib/python/site-packages (from nltk>=3.2.1->newspaper3k) (2024.11.6)\n",
      "Requirement already satisfied: tqdm in /Users/venusikhakolli/Library/Python/3.9/lib/python/site-packages (from nltk>=3.2.1->newspaper3k) (4.66.5)\n",
      "Requirement already satisfied: requests-file>=1.4 in /Users/venusikhakolli/Library/Python/3.9/lib/python/site-packages (from tldextract>=2.0.1->newspaper3k) (2.1.0)\n",
      "Requirement already satisfied: filelock>=3.0.8 in /Users/venusikhakolli/Library/Python/3.9/lib/python/site-packages (from tldextract>=2.0.1->newspaper3k) (3.18.0)\n"
     ]
    }
   ],
   "source": [
    "!pip3 install newspaper3k requests pandas\n"
   ]
  },
  {
   "cell_type": "code",
   "execution_count": 2,
   "metadata": {},
   "outputs": [
    {
     "name": "stdout",
     "output_type": "stream",
     "text": [
      "Defaulting to user installation because normal site-packages is not writeable\n",
      "Requirement already satisfied: lxml-html-clean in /Users/venusikhakolli/Library/Python/3.9/lib/python/site-packages (0.4.2)\n",
      "Requirement already satisfied: lxml in /Users/venusikhakolli/Library/Python/3.9/lib/python/site-packages (from lxml-html-clean) (5.3.0)\n"
     ]
    }
   ],
   "source": [
    "!pip install lxml-html-clean\n",
    "\n",
    "\n"
   ]
  },
  {
   "cell_type": "code",
   "execution_count": 3,
   "metadata": {},
   "outputs": [
    {
     "name": "stderr",
     "output_type": "stream",
     "text": [
      "/Users/venusikhakolli/Library/Python/3.9/lib/python/site-packages/urllib3/__init__.py:35: NotOpenSSLWarning: urllib3 v2 only supports OpenSSL 1.1.1+, currently the 'ssl' module is compiled with 'LibreSSL 2.8.3'. See: https://github.com/urllib3/urllib3/issues/3020\n",
      "  warnings.warn(\n"
     ]
    },
    {
     "name": "stdout",
     "output_type": "stream",
     "text": [
      "\n",
      "🔍 Searching for: AAPL stock 2020..2025\n",
      "📄 Fetching: AAPL Stock: Apple Earnings For Fiscal Third Quarter 2022 ...\n",
      "📄 Fetching: Beyond AAPL: What 3 Other Stocks I Would Own In 2023 - Apple ...\n",
      "📄 Fetching: Apple Stock (NASDAQ:AAPL): 2023 Could Be Its Most Exciting Year ...\n",
      "📄 Fetching: Apple Stock Boost Seen From 5G Version Of Low-Cost IPhone SE ...\n",
      "📄 Fetching: Apple Versus Microsoft: Only One is The Better Buy | Morningstar\n",
      "📄 Fetching: Why Apple (AAPL) Stock Just Got a Massive Boost Heading into 2020\n",
      "📄 Fetching: Apple (AAPL) Stock: After strong Q3, tech giant looks headed for soft ...\n",
      "📄 Fetching: Apple's Q1 Earnings: Guidance Could Move The Stock - Apple Maven\n",
      "📄 Fetching: Apple Stock Counting On iPhone 12 To Deliver Supercycle ...\n",
      "📄 Fetching: Stock Market Closes Lower After Fed Official Says Inflation Could ...\n",
      "📄 Fetching: Apple Stock Nears Buy Point, Joins Stocks To Watch Nvidia ...\n",
      "📄 Fetching: These 4 Key Catalysts Pushed Apple's (AAPL) Stock to Record Highs\n",
      "📄 Fetching: Apple Stock: Q2 Earnings Strong, Q3 Outlook Reflects Issues ...\n",
      "📄 Fetching: S&P 500: Apple Stock Still Isn't No. 1 In One Big Way | Investor's ...\n",
      "📄 Fetching: Apple Stock Looks Set For Success Into Year End (NASDAQ:AAPL ...\n",
      "📄 Fetching: AAPL Stock Alert: What to Know as Apple Launches New Products ...\n",
      "📄 Fetching: Dow Jones Futures Rise As McConnell Introduces Competing ...\n",
      "📄 Fetching: Apple Stock: Why We Think The Valuation Is Still Justified (NASDAQ ...\n",
      "📄 Fetching: AAPL: Apple vs. Google: Which FAANG Stock is a Better Buy?\n",
      "📄 Fetching: Apple (AAPL) Stock: Currency, China, Europe, All Headwinds ...\n"
     ]
    },
    {
     "ename": "KeyboardInterrupt",
     "evalue": "",
     "output_type": "error",
     "traceback": [
      "\u001b[0;31m---------------------------------------------------------------------------\u001b[0m",
      "\u001b[0;31mKeyboardInterrupt\u001b[0m                         Traceback (most recent call last)",
      "Cell \u001b[0;32mIn[3], line 68\u001b[0m\n\u001b[1;32m     60\u001b[0m             published \u001b[38;5;241m=\u001b[39m extract_publish_date(url)\n\u001b[1;32m     61\u001b[0m             all_articles\u001b[38;5;241m.\u001b[39mappend({\n\u001b[1;32m     62\u001b[0m                 \u001b[38;5;124m\"\u001b[39m\u001b[38;5;124msymbol\u001b[39m\u001b[38;5;124m\"\u001b[39m: symbol,\n\u001b[1;32m     63\u001b[0m                 \u001b[38;5;124m\"\u001b[39m\u001b[38;5;124mtitle\u001b[39m\u001b[38;5;124m\"\u001b[39m: title,\n\u001b[0;32m   (...)\u001b[0m\n\u001b[1;32m     66\u001b[0m                 \u001b[38;5;124m\"\u001b[39m\u001b[38;5;124mpublished\u001b[39m\u001b[38;5;124m\"\u001b[39m: published\n\u001b[1;32m     67\u001b[0m             })\n\u001b[0;32m---> 68\u001b[0m         \u001b[43mtime\u001b[49m\u001b[38;5;241;43m.\u001b[39;49m\u001b[43msleep\u001b[49m\u001b[43m(\u001b[49m\u001b[43mdelay\u001b[49m\u001b[43m)\u001b[49m\n\u001b[1;32m     70\u001b[0m \u001b[38;5;66;03m# === Save to CSV\u001b[39;00m\n\u001b[1;32m     71\u001b[0m df \u001b[38;5;241m=\u001b[39m pd\u001b[38;5;241m.\u001b[39mDataFrame(all_articles)\n",
      "\u001b[0;31mKeyboardInterrupt\u001b[0m: "
     ]
    }
   ],
   "source": [
    "import requests\n",
    "import pandas as pd\n",
    "import time\n",
    "from newspaper import Article\n",
    "\n",
    "\n",
    "API_KEY = \"\"\n",
    "CSE_ID = \"\"\n",
    "\n",
    "# === ⚙️ SETTINGS ===\n",
    "results_per_symbol = 30   # Total articles per stock (you can change this)\n",
    "delay = 1                 # seconds between requests\n",
    "\n",
    "# === Load company symbols ===\n",
    "symbols_df = pd.read_csv(\"financial_symbols.csv\")\n",
    "symbols = symbols_df[\"Symbol\"].dropna().unique().tolist()\n",
    "\n",
    "# === Google Search API\n",
    "def search_google(query, start):\n",
    "    url = \"https://www.googleapis.com/customsearch/v1\"\n",
    "    params = {\n",
    "        \"key\": API_KEY,\n",
    "        \"cx\": CSE_ID,\n",
    "        \"q\": query,\n",
    "        \"start\": start,\n",
    "    }\n",
    "    response = requests.get(url, params=params)\n",
    "    if response.status_code == 200:\n",
    "        return response.json().get(\"items\", [])\n",
    "    else:\n",
    "        print(f\"Error {response.status_code} for {query}\")\n",
    "        return []\n",
    "\n",
    "# === Article Publish Date Extraction\n",
    "def extract_publish_date(url):\n",
    "    try:\n",
    "        article = Article(url)\n",
    "        article.download()\n",
    "        article.parse()\n",
    "        if article.publish_date:\n",
    "            return article.publish_date.strftime(\"%Y-%m-%d\")\n",
    "        else:\n",
    "            return None\n",
    "    except:\n",
    "        return None\n",
    "\n",
    "# === Collect Articles\n",
    "all_articles = []\n",
    "\n",
    "for symbol in symbols:\n",
    "    query = f\"{symbol} stock 2020..2025\"\n",
    "    print(f\"\\n🔍 Searching for: {query}\")\n",
    "    for start in range(1, results_per_symbol + 1, 10):\n",
    "        articles = search_google(query, start)\n",
    "        for item in articles:\n",
    "            title = item.get(\"title\")\n",
    "            url = item.get(\"link\")\n",
    "            snippet = item.get(\"snippet\")\n",
    "            print(f\"📄 Fetching: {title}\")\n",
    "            published = extract_publish_date(url)\n",
    "            all_articles.append({\n",
    "                \"symbol\": symbol,\n",
    "                \"title\": title,\n",
    "                \"url\": url,\n",
    "                \"snippet\": snippet,\n",
    "                \"published\": published\n",
    "            })\n",
    "        time.sleep(delay)\n",
    "\n",
    "# === Save to CSV\n",
    "df = pd.DataFrame(all_articles)\n",
    "df.to_csv(\"news_articles_with_dates_2020_2025.csv\", index=False)\n",
    "print(\"\\n✅ Done! Saved to 'news_articles_with_dates_2020_2025.csv'\")\n"
   ]
  },
  {
   "cell_type": "code",
   "execution_count": null,
   "metadata": {},
   "outputs": [
    {
     "data": {
      "text/html": [
       "<div>\n",
       "<style scoped>\n",
       "    .dataframe tbody tr th:only-of-type {\n",
       "        vertical-align: middle;\n",
       "    }\n",
       "\n",
       "    .dataframe tbody tr th {\n",
       "        vertical-align: top;\n",
       "    }\n",
       "\n",
       "    .dataframe thead th {\n",
       "        text-align: right;\n",
       "    }\n",
       "</style>\n",
       "<table border=\"1\" class=\"dataframe\">\n",
       "  <thead>\n",
       "    <tr style=\"text-align: right;\">\n",
       "      <th></th>\n",
       "      <th>symbol</th>\n",
       "      <th>title</th>\n",
       "      <th>url</th>\n",
       "      <th>snippet</th>\n",
       "      <th>published</th>\n",
       "    </tr>\n",
       "  </thead>\n",
       "  <tbody>\n",
       "    <tr>\n",
       "      <th>0</th>\n",
       "      <td>VGLT</td>\n",
       "      <td>Investing Cases for Long-Term and Short-Term T...</td>\n",
       "      <td>https://news.google.com/__i/rss/rd/articles/CB...</td>\n",
       "      <td>Jul 12, 2021 ... ... Shares (VGLT). With its p...</td>\n",
       "      <td>NaN</td>\n",
       "    </tr>\n",
       "    <tr>\n",
       "      <th>1</th>\n",
       "      <td>VGLT</td>\n",
       "      <td>Stocks Close Epic November On Election, Vaccin...</td>\n",
       "      <td>https://news.google.com/articles/CAIiEPkZaNJqD...</td>\n",
       "      <td>Dec 4, 2020 ... November was an exceptional mo...</td>\n",
       "      <td>NaN</td>\n",
       "    </tr>\n",
       "    <tr>\n",
       "      <th>2</th>\n",
       "      <td>VGLT</td>\n",
       "      <td>TLT ETF and the upcoming $54 trillion black sw...</td>\n",
       "      <td>https://news.google.com/__i/rss/rd/articles/CB...</td>\n",
       "      <td>Feb 8, 2024 ... Stock Market · Crypto · Forex ...</td>\n",
       "      <td>NaN</td>\n",
       "    </tr>\n",
       "    <tr>\n",
       "      <th>3</th>\n",
       "      <td>VRTV</td>\n",
       "      <td>Veritiv (VRTV) Q4 Earnings Lag Estimates, Reve...</td>\n",
       "      <td>https://news.google.com/rss/articles/CBMiX2h0d...</td>\n",
       "      <td>Mar 1, 2023 ... Veritiv Corporation reported e...</td>\n",
       "      <td>NaN</td>\n",
       "    </tr>\n",
       "    <tr>\n",
       "      <th>4</th>\n",
       "      <td>VRTV</td>\n",
       "      <td>Zacks Industry Outlook Highlights Suzano, Smur...</td>\n",
       "      <td>https://news.google.com/rss/articles/CBMiYmh0d...</td>\n",
       "      <td>Mar 27, 2023 ... Just Released: Zacks Top 10 S...</td>\n",
       "      <td>NaN</td>\n",
       "    </tr>\n",
       "    <tr>\n",
       "      <th>...</th>\n",
       "      <td>...</td>\n",
       "      <td>...</td>\n",
       "      <td>...</td>\n",
       "      <td>...</td>\n",
       "      <td>...</td>\n",
       "    </tr>\n",
       "    <tr>\n",
       "      <th>1624</th>\n",
       "      <td>QQQ</td>\n",
       "      <td>Dow Jones Futures Tumble As Trump Bans Travel ...</td>\n",
       "      <td>https://news.google.com/articles/CAIiEKgDKpFew...</td>\n",
       "      <td>Mar 12, 2020 ... The DIA ETF is down 5.9%. The...</td>\n",
       "      <td>NaN</td>\n",
       "    </tr>\n",
       "    <tr>\n",
       "      <th>1625</th>\n",
       "      <td>QQQ</td>\n",
       "      <td>Pre-Market Most Active for Jan 25, 2023 : TQQQ...</td>\n",
       "      <td>https://news.google.com/__i/rss/rd/articles/CB...</td>\n",
       "      <td>Jan 25, 2023 ... Pre-Market Most Active for Ja...</td>\n",
       "      <td>NaN</td>\n",
       "    </tr>\n",
       "    <tr>\n",
       "      <th>1626</th>\n",
       "      <td>QQQ</td>\n",
       "      <td>Dow Jones Falls On Last Day Of 2020; Tesla Sto...</td>\n",
       "      <td>https://news.google.com/__i/rss/rd/articles/CB...</td>\n",
       "      <td>Dec 31, 2020 ... The Nasdaq 100-linked Invesco...</td>\n",
       "      <td>NaN</td>\n",
       "    </tr>\n",
       "    <tr>\n",
       "      <th>1627</th>\n",
       "      <td>QQQ</td>\n",
       "      <td>Better Buy: Tesla or Every Nasdaq Stock? | The...</td>\n",
       "      <td>https://news.google.com/__i/rss/rd/articles/CB...</td>\n",
       "      <td>Mar 31, 2022 ... ... stocks, or perhaps only o...</td>\n",
       "      <td>NaN</td>\n",
       "    </tr>\n",
       "    <tr>\n",
       "      <th>1628</th>\n",
       "      <td>QQQ</td>\n",
       "      <td>Secular Winners Located in These ETFs</td>\n",
       "      <td>https://news.google.com/__i/rss/rd/articles/CB...</td>\n",
       "      <td>Secular Winners Located in These ETFs. Tom Lyd...</td>\n",
       "      <td>NaN</td>\n",
       "    </tr>\n",
       "  </tbody>\n",
       "</table>\n",
       "<p>1629 rows × 5 columns</p>\n",
       "</div>"
      ],
      "text/plain": [
       "     symbol                                              title  \\\n",
       "0      VGLT  Investing Cases for Long-Term and Short-Term T...   \n",
       "1      VGLT  Stocks Close Epic November On Election, Vaccin...   \n",
       "2      VGLT  TLT ETF and the upcoming $54 trillion black sw...   \n",
       "3      VRTV  Veritiv (VRTV) Q4 Earnings Lag Estimates, Reve...   \n",
       "4      VRTV  Zacks Industry Outlook Highlights Suzano, Smur...   \n",
       "...     ...                                                ...   \n",
       "1624    QQQ  Dow Jones Futures Tumble As Trump Bans Travel ...   \n",
       "1625    QQQ  Pre-Market Most Active for Jan 25, 2023 : TQQQ...   \n",
       "1626    QQQ  Dow Jones Falls On Last Day Of 2020; Tesla Sto...   \n",
       "1627    QQQ  Better Buy: Tesla or Every Nasdaq Stock? | The...   \n",
       "1628    QQQ              Secular Winners Located in These ETFs   \n",
       "\n",
       "                                                    url  \\\n",
       "0     https://news.google.com/__i/rss/rd/articles/CB...   \n",
       "1     https://news.google.com/articles/CAIiEPkZaNJqD...   \n",
       "2     https://news.google.com/__i/rss/rd/articles/CB...   \n",
       "3     https://news.google.com/rss/articles/CBMiX2h0d...   \n",
       "4     https://news.google.com/rss/articles/CBMiYmh0d...   \n",
       "...                                                 ...   \n",
       "1624  https://news.google.com/articles/CAIiEKgDKpFew...   \n",
       "1625  https://news.google.com/__i/rss/rd/articles/CB...   \n",
       "1626  https://news.google.com/__i/rss/rd/articles/CB...   \n",
       "1627  https://news.google.com/__i/rss/rd/articles/CB...   \n",
       "1628  https://news.google.com/__i/rss/rd/articles/CB...   \n",
       "\n",
       "                                                snippet  published  \n",
       "0     Jul 12, 2021 ... ... Shares (VGLT). With its p...        NaN  \n",
       "1     Dec 4, 2020 ... November was an exceptional mo...        NaN  \n",
       "2     Feb 8, 2024 ... Stock Market · Crypto · Forex ...        NaN  \n",
       "3     Mar 1, 2023 ... Veritiv Corporation reported e...        NaN  \n",
       "4     Mar 27, 2023 ... Just Released: Zacks Top 10 S...        NaN  \n",
       "...                                                 ...        ...  \n",
       "1624  Mar 12, 2020 ... The DIA ETF is down 5.9%. The...        NaN  \n",
       "1625  Jan 25, 2023 ... Pre-Market Most Active for Ja...        NaN  \n",
       "1626  Dec 31, 2020 ... The Nasdaq 100-linked Invesco...        NaN  \n",
       "1627  Mar 31, 2022 ... ... stocks, or perhaps only o...        NaN  \n",
       "1628  Secular Winners Located in These ETFs. Tom Lyd...        NaN  \n",
       "\n",
       "[1629 rows x 5 columns]"
      ]
     },
     "execution_count": 9,
     "metadata": {},
     "output_type": "execute_result"
    }
   ],
   "source": [
    "news_data = pd.read_csv(\"news_articles_with_dates_2020_2025.csv\")\n",
    "news_data"
   ]
  },
  {
   "cell_type": "code",
   "execution_count": null,
   "metadata": {},
   "outputs": [
    {
     "name": "stdout",
     "output_type": "stream",
     "text": [
      "Defaulting to user installation because normal site-packages is not writeable\n",
      "Requirement already satisfied: newspaper3k in /Users/venusikhakolli/Library/Python/3.9/lib/python/site-packages (0.2.8)\n",
      "Requirement already satisfied: pandas in /Users/venusikhakolli/Library/Python/3.9/lib/python/site-packages (2.2.2)\n",
      "Requirement already satisfied: tqdm in /Users/venusikhakolli/Library/Python/3.9/lib/python/site-packages (4.66.5)\n",
      "Requirement already satisfied: beautifulsoup4>=4.4.1 in /Users/venusikhakolli/Library/Python/3.9/lib/python/site-packages (from newspaper3k) (4.12.3)\n",
      "Requirement already satisfied: Pillow>=3.3.0 in /Users/venusikhakolli/Library/Python/3.9/lib/python/site-packages (from newspaper3k) (11.0.0)\n",
      "Requirement already satisfied: PyYAML>=3.11 in /Users/venusikhakolli/Library/Python/3.9/lib/python/site-packages (from newspaper3k) (6.0.2)\n",
      "Requirement already satisfied: cssselect>=0.9.2 in /Users/venusikhakolli/Library/Python/3.9/lib/python/site-packages (from newspaper3k) (1.3.0)\n",
      "Requirement already satisfied: lxml>=3.6.0 in /Users/venusikhakolli/Library/Python/3.9/lib/python/site-packages (from newspaper3k) (5.3.0)\n",
      "Requirement already satisfied: nltk>=3.2.1 in /Users/venusikhakolli/Library/Python/3.9/lib/python/site-packages (from newspaper3k) (3.9.1)\n",
      "Requirement already satisfied: requests>=2.10.0 in /Users/venusikhakolli/Library/Python/3.9/lib/python/site-packages (from newspaper3k) (2.32.3)\n",
      "Requirement already satisfied: feedparser>=5.2.1 in /Users/venusikhakolli/Library/Python/3.9/lib/python/site-packages (from newspaper3k) (6.0.11)\n",
      "Requirement already satisfied: tldextract>=2.0.1 in /Users/venusikhakolli/Library/Python/3.9/lib/python/site-packages (from newspaper3k) (5.2.0)\n",
      "Requirement already satisfied: feedfinder2>=0.0.4 in /Users/venusikhakolli/Library/Python/3.9/lib/python/site-packages (from newspaper3k) (0.0.4)\n",
      "Requirement already satisfied: jieba3k>=0.35.1 in /Users/venusikhakolli/Library/Python/3.9/lib/python/site-packages (from newspaper3k) (0.35.1)\n",
      "Requirement already satisfied: python-dateutil>=2.5.3 in /Users/venusikhakolli/Library/Python/3.9/lib/python/site-packages (from newspaper3k) (2.9.0.post0)\n",
      "Requirement already satisfied: tinysegmenter==0.3 in /Users/venusikhakolli/Library/Python/3.9/lib/python/site-packages (from newspaper3k) (0.3)\n",
      "Requirement already satisfied: numpy>=1.22.4 in /Users/venusikhakolli/Library/Python/3.9/lib/python/site-packages (from pandas) (1.26.4)\n",
      "Requirement already satisfied: pytz>=2020.1 in /Users/venusikhakolli/Library/Python/3.9/lib/python/site-packages (from pandas) (2024.2)\n",
      "Requirement already satisfied: tzdata>=2022.7 in /Users/venusikhakolli/Library/Python/3.9/lib/python/site-packages (from pandas) (2024.1)\n",
      "Requirement already satisfied: soupsieve>1.2 in /Users/venusikhakolli/Library/Python/3.9/lib/python/site-packages (from beautifulsoup4>=4.4.1->newspaper3k) (2.6)\n",
      "Requirement already satisfied: six in /Library/Developer/CommandLineTools/Library/Frameworks/Python3.framework/Versions/3.9/lib/python3.9/site-packages (from feedfinder2>=0.0.4->newspaper3k) (1.15.0)\n",
      "Requirement already satisfied: sgmllib3k in /Users/venusikhakolli/Library/Python/3.9/lib/python/site-packages (from feedparser>=5.2.1->newspaper3k) (1.0.0)\n",
      "Requirement already satisfied: click in /Users/venusikhakolli/Library/Python/3.9/lib/python/site-packages (from nltk>=3.2.1->newspaper3k) (8.1.7)\n",
      "Requirement already satisfied: joblib in /Users/venusikhakolli/Library/Python/3.9/lib/python/site-packages (from nltk>=3.2.1->newspaper3k) (1.4.2)\n",
      "Requirement already satisfied: regex>=2021.8.3 in /Users/venusikhakolli/Library/Python/3.9/lib/python/site-packages (from nltk>=3.2.1->newspaper3k) (2024.11.6)\n",
      "Requirement already satisfied: charset-normalizer<4,>=2 in /Users/venusikhakolli/Library/Python/3.9/lib/python/site-packages (from requests>=2.10.0->newspaper3k) (3.4.0)\n",
      "Requirement already satisfied: idna<4,>=2.5 in /Users/venusikhakolli/Library/Python/3.9/lib/python/site-packages (from requests>=2.10.0->newspaper3k) (3.10)\n",
      "Requirement already satisfied: urllib3<3,>=1.21.1 in /Users/venusikhakolli/Library/Python/3.9/lib/python/site-packages (from requests>=2.10.0->newspaper3k) (2.2.3)\n",
      "Requirement already satisfied: certifi>=2017.4.17 in /Users/venusikhakolli/Library/Python/3.9/lib/python/site-packages (from requests>=2.10.0->newspaper3k) (2024.8.30)\n",
      "Requirement already satisfied: requests-file>=1.4 in /Users/venusikhakolli/Library/Python/3.9/lib/python/site-packages (from tldextract>=2.0.1->newspaper3k) (2.1.0)\n",
      "Requirement already satisfied: filelock>=3.0.8 in /Users/venusikhakolli/Library/Python/3.9/lib/python/site-packages (from tldextract>=2.0.1->newspaper3k) (3.18.0)\n"
     ]
    }
   ],
   "source": [
    "!pip install newspaper3k pandas tqdm"
   ]
  },
  {
   "cell_type": "code",
   "execution_count": null,
   "metadata": {},
   "outputs": [
    {
     "name": "stderr",
     "output_type": "stream",
     "text": [
      "100%|██████████| 1629/1629 [07:21<00:00,  3.69it/s]"
     ]
    },
    {
     "name": "stdout",
     "output_type": "stream",
     "text": [
      "✅ Done! File saved as 'news_articles_with_filled_dates.csv'\n"
     ]
    },
    {
     "name": "stderr",
     "output_type": "stream",
     "text": [
      "\n",
      "/var/folders/0_/17np8rmj3q36gcrr48byqk8c0000gn/T/ipykernel_82913/4139591690.py:23: FutureWarning: Setting an item of incompatible dtype is deprecated and will raise an error in a future version of pandas. Value '[None None None ... None None None]' has dtype incompatible with float64, please explicitly cast to a compatible dtype first.\n",
      "  df.loc[mask_missing, \"published\"] = df.loc[mask_missing, \"url\"].progress_apply(extract_publish_date_from_url)\n"
     ]
    }
   ],
   "source": [
    "import pandas as pd\n",
    "from newspaper import Article\n",
    "from tqdm import tqdm\n",
    "\n",
    "# Load the CSV\n",
    "df = pd.read_csv(\"news_articles_with_dates_2020_2025.csv\")\n",
    "\n",
    "# Extract publish date from URL\n",
    "def extract_publish_date_from_url(url):\n",
    "    try:\n",
    "        article = Article(url)\n",
    "        article.download()\n",
    "        article.parse()\n",
    "        if article.publish_date:\n",
    "            return article.publish_date.strftime(\"%Y-%m-%d\")\n",
    "    except:\n",
    "        return None\n",
    "    return None\n",
    "\n",
    "# Fill missing publish dates\n",
    "tqdm.pandas()\n",
    "mask_missing = df[\"published\"].isna()\n",
    "df.loc[mask_missing, \"published\"] = df.loc[mask_missing, \"url\"].progress_apply(extract_publish_date_from_url)\n",
    "\n",
    "# Save to new CSV\n",
    "df.to_csv(\"news_articles_with_filled_dates.csv\", index=False)\n",
    "print(\"✅ Done! File saved as 'news_articles_with_filled_dates.csv'\")"
   ]
  },
  {
   "cell_type": "code",
   "execution_count": null,
   "metadata": {},
   "outputs": [
    {
     "data": {
      "text/plain": [
       "1629"
      ]
     },
     "execution_count": 15,
     "metadata": {},
     "output_type": "execute_result"
    }
   ],
   "source": [
    "news_data_1 = pd.read_csv(\"news_articles_with_filled_dates.csv\")\n",
    "news_data_1[\"published\"].isnull().sum()"
   ]
  },
  {
   "cell_type": "code",
   "execution_count": 2,
   "metadata": {},
   "outputs": [
    {
     "name": "stderr",
     "output_type": "stream",
     "text": [
      "[*********************100%***********************]  1 of 1 completed"
     ]
    },
    {
     "name": "stdout",
     "output_type": "stream",
     "text": [
      "Fetching data for: AAPL\n",
      "Fetching data for: MSFT\n"
     ]
    },
    {
     "name": "stderr",
     "output_type": "stream",
     "text": [
      "\n",
      "[*********************100%***********************]  1 of 1 completed\n",
      "[*********************100%***********************]  1 of 1 completed\n",
      "[*********************100%***********************]  1 of 1 completed\n"
     ]
    },
    {
     "name": "stdout",
     "output_type": "stream",
     "text": [
      "Fetching data for: GOOGL\n",
      "Fetching data for: AMZN\n",
      "Fetching data for: TSLA\n"
     ]
    },
    {
     "name": "stderr",
     "output_type": "stream",
     "text": [
      "[*********************100%***********************]  1 of 1 completed\n",
      "[*********************100%***********************]  1 of 1 completed\n",
      "[*********************100%***********************]  1 of 1 completed\n"
     ]
    },
    {
     "name": "stdout",
     "output_type": "stream",
     "text": [
      "Fetching data for: META\n",
      "Fetching data for: NVDA\n",
      "Fetching data for: JPM\n"
     ]
    },
    {
     "name": "stderr",
     "output_type": "stream",
     "text": [
      "[*********************100%***********************]  1 of 1 completed\n",
      "[*********************100%***********************]  1 of 1 completed\n"
     ]
    },
    {
     "name": "stdout",
     "output_type": "stream",
     "text": [
      "Fetching data for: JNJ\n",
      "Fetching data for: V\n"
     ]
    },
    {
     "name": "stderr",
     "output_type": "stream",
     "text": [
      "[*********************100%***********************]  1 of 1 completed\n",
      "[*********************100%***********************]  1 of 1 completed\n"
     ]
    },
    {
     "name": "stdout",
     "output_type": "stream",
     "text": [
      "Fetching data for: UNH\n",
      "Fetching data for: PG\n"
     ]
    },
    {
     "name": "stderr",
     "output_type": "stream",
     "text": [
      "[*********************100%***********************]  1 of 1 completed\n",
      "[*********************100%***********************]  1 of 1 completed\n"
     ]
    },
    {
     "name": "stdout",
     "output_type": "stream",
     "text": [
      "Fetching data for: MA\n",
      "Fetching data for: HD\n"
     ]
    },
    {
     "name": "stderr",
     "output_type": "stream",
     "text": [
      "[*********************100%***********************]  1 of 1 completed\n",
      "[*********************100%***********************]  1 of 1 completed\n"
     ]
    },
    {
     "name": "stdout",
     "output_type": "stream",
     "text": [
      "Fetching data for: PFE\n",
      "Fetching data for: PEP\n"
     ]
    },
    {
     "name": "stderr",
     "output_type": "stream",
     "text": [
      "[*********************100%***********************]  1 of 1 completed\n",
      "[*********************100%***********************]  1 of 1 completed\n"
     ]
    },
    {
     "name": "stdout",
     "output_type": "stream",
     "text": [
      "Fetching data for: KO\n",
      "Fetching data for: CVX\n"
     ]
    },
    {
     "name": "stderr",
     "output_type": "stream",
     "text": [
      "[*********************100%***********************]  1 of 1 completed\n",
      "[*********************100%***********************]  1 of 1 completed\n"
     ]
    },
    {
     "name": "stdout",
     "output_type": "stream",
     "text": [
      "Fetching data for: MRK\n",
      "Fetching data for: WMT\n"
     ]
    },
    {
     "name": "stderr",
     "output_type": "stream",
     "text": [
      "[*********************100%***********************]  1 of 1 completed\n",
      "[*********************100%***********************]  1 of 1 completed\n"
     ]
    },
    {
     "name": "stdout",
     "output_type": "stream",
     "text": [
      "Fetching data for: LLY\n",
      "Fetching data for: DIS\n"
     ]
    },
    {
     "name": "stderr",
     "output_type": "stream",
     "text": [
      "[*********************100%***********************]  1 of 1 completed\n",
      "[*********************100%***********************]  1 of 1 completed\n"
     ]
    },
    {
     "name": "stdout",
     "output_type": "stream",
     "text": [
      "Fetching data for: MCD\n",
      "Fetching data for: BAC\n"
     ]
    },
    {
     "name": "stderr",
     "output_type": "stream",
     "text": [
      "[*********************100%***********************]  1 of 1 completed\n",
      "[*********************100%***********************]  1 of 1 completed\n",
      "[*********************100%***********************]  1 of 1 completed\n"
     ]
    },
    {
     "name": "stdout",
     "output_type": "stream",
     "text": [
      "Fetching data for: ABBV\n",
      "Fetching data for: CSCO\n",
      "Fetching data for: INTC\n"
     ]
    },
    {
     "name": "stderr",
     "output_type": "stream",
     "text": [
      "[*********************100%***********************]  1 of 1 completed\n",
      "[*********************100%***********************]  1 of 1 completed\n"
     ]
    },
    {
     "name": "stdout",
     "output_type": "stream",
     "text": [
      "Fetching data for: T\n",
      "Fetching data for: XOM\n"
     ]
    },
    {
     "name": "stderr",
     "output_type": "stream",
     "text": [
      "[*********************100%***********************]  1 of 1 completed\n",
      "[*********************100%***********************]  1 of 1 completed\n"
     ]
    },
    {
     "name": "stdout",
     "output_type": "stream",
     "text": [
      "Fetching data for: TMO\n",
      "Fetching data for: SCHW\n"
     ]
    },
    {
     "name": "stderr",
     "output_type": "stream",
     "text": [
      "[*********************100%***********************]  1 of 1 completed\n",
      "[*********************100%***********************]  1 of 1 completed\n"
     ]
    },
    {
     "name": "stdout",
     "output_type": "stream",
     "text": [
      "Fetching data for: AMP\n",
      "Fetching data for: BMY\n"
     ]
    },
    {
     "name": "stderr",
     "output_type": "stream",
     "text": [
      "[*********************100%***********************]  1 of 1 completed\n",
      "[*********************100%***********************]  1 of 1 completed\n",
      "[*********************100%***********************]  1 of 1 completed\n"
     ]
    },
    {
     "name": "stdout",
     "output_type": "stream",
     "text": [
      "Fetching data for: VRTX\n",
      "Fetching data for: REGN\n",
      "Fetching data for: ADSK\n"
     ]
    },
    {
     "name": "stderr",
     "output_type": "stream",
     "text": [
      "[*********************100%***********************]  1 of 1 completed\n",
      "[*********************100%***********************]  1 of 1 completed\n",
      "[*********************100%***********************]  1 of 1 completed\n",
      "[*********************100%***********************]  1 of 1 completed"
     ]
    },
    {
     "name": "stdout",
     "output_type": "stream",
     "text": [
      "Fetching data for: SNPS\n",
      "Fetching data for: CRWD\n",
      "Fetching data for: ZS\n",
      "Fetching data for: MU\n"
     ]
    },
    {
     "name": "stderr",
     "output_type": "stream",
     "text": [
      "\n",
      "[*********************100%***********************]  1 of 1 completed\n",
      "[*********************100%***********************]  1 of 1 completed\n"
     ]
    },
    {
     "name": "stdout",
     "output_type": "stream",
     "text": [
      "Fetching data for: ETN\n",
      "Fetching data for: ROK\n"
     ]
    },
    {
     "name": "stderr",
     "output_type": "stream",
     "text": [
      "[*********************100%***********************]  1 of 1 completed\n",
      "[*********************100%***********************]  1 of 1 completed\n",
      "[*********************100%***********************]  1 of 1 completed\n"
     ]
    },
    {
     "name": "stdout",
     "output_type": "stream",
     "text": [
      "Fetching data for: DLTR\n",
      "Fetching data for: KDP\n",
      "Fetching data for: BBY\n"
     ]
    },
    {
     "name": "stderr",
     "output_type": "stream",
     "text": [
      "[*********************100%***********************]  1 of 1 completed\n",
      "[*********************100%***********************]  1 of 1 completed\n"
     ]
    },
    {
     "name": "stdout",
     "output_type": "stream",
     "text": [
      "Fetching data for: FANG\n",
      "Fetching data for: EOG\n"
     ]
    },
    {
     "name": "stderr",
     "output_type": "stream",
     "text": [
      "[*********************100%***********************]  1 of 1 completed\n",
      "[*********************100%***********************]  1 of 1 completed\n"
     ]
    },
    {
     "name": "stdout",
     "output_type": "stream",
     "text": [
      "Fetching data for: CHRW\n",
      "Fetching data for: SPY\n"
     ]
    },
    {
     "name": "stderr",
     "output_type": "stream",
     "text": [
      "[*********************100%***********************]  1 of 1 completed\n",
      "[*********************100%***********************]  1 of 1 completed\n"
     ]
    },
    {
     "name": "stdout",
     "output_type": "stream",
     "text": [
      "Fetching data for: QQQ\n",
      "Fetching data for: VTI\n"
     ]
    },
    {
     "name": "stderr",
     "output_type": "stream",
     "text": [
      "[*********************100%***********************]  1 of 1 completed\n",
      "[*********************100%***********************]  1 of 1 completed\n"
     ]
    },
    {
     "name": "stdout",
     "output_type": "stream",
     "text": [
      "Fetching data for: IWM\n",
      "Fetching data for: XLK\n"
     ]
    },
    {
     "name": "stderr",
     "output_type": "stream",
     "text": [
      "[*********************100%***********************]  1 of 1 completed\n",
      "[*********************100%***********************]  1 of 1 completed\n"
     ]
    },
    {
     "name": "stdout",
     "output_type": "stream",
     "text": [
      "Fetching data for: XLF\n",
      "Fetching data for: XLY\n"
     ]
    },
    {
     "name": "stderr",
     "output_type": "stream",
     "text": [
      "[*********************100%***********************]  1 of 1 completed\n",
      "[*********************100%***********************]  1 of 1 completed\n"
     ]
    },
    {
     "name": "stdout",
     "output_type": "stream",
     "text": [
      "Fetching data for: XLV\n",
      "Fetching data for: XLE\n"
     ]
    },
    {
     "name": "stderr",
     "output_type": "stream",
     "text": [
      "[*********************100%***********************]  1 of 1 completed\n",
      "[*********************100%***********************]  1 of 1 completed\n"
     ]
    },
    {
     "name": "stdout",
     "output_type": "stream",
     "text": [
      "Fetching data for: XLI\n",
      "Fetching data for: XLC\n"
     ]
    },
    {
     "name": "stderr",
     "output_type": "stream",
     "text": [
      "[*********************100%***********************]  1 of 1 completed\n",
      "[*********************100%***********************]  1 of 1 completed\n"
     ]
    },
    {
     "name": "stdout",
     "output_type": "stream",
     "text": [
      "Fetching data for: XLB\n",
      "Fetching data for: XLRE\n"
     ]
    },
    {
     "name": "stderr",
     "output_type": "stream",
     "text": [
      "[*********************100%***********************]  1 of 1 completed\n",
      "[*********************100%***********************]  1 of 1 completed\n"
     ]
    },
    {
     "name": "stdout",
     "output_type": "stream",
     "text": [
      "Fetching data for: VGT\n",
      "Fetching data for: VOO\n"
     ]
    },
    {
     "name": "stderr",
     "output_type": "stream",
     "text": [
      "[*********************100%***********************]  1 of 1 completed\n",
      "[*********************100%***********************]  1 of 1 completed\n"
     ]
    },
    {
     "name": "stdout",
     "output_type": "stream",
     "text": [
      "Fetching data for: VHT\n",
      "Fetching data for: VO\n"
     ]
    },
    {
     "name": "stderr",
     "output_type": "stream",
     "text": [
      "[*********************100%***********************]  1 of 1 completed\n",
      "[*********************100%***********************]  1 of 1 completed\n"
     ]
    },
    {
     "name": "stdout",
     "output_type": "stream",
     "text": [
      "Fetching data for: IWB\n",
      "Fetching data for: TLT\n"
     ]
    },
    {
     "name": "stderr",
     "output_type": "stream",
     "text": [
      "[*********************100%***********************]  1 of 1 completed\n",
      "[*********************100%***********************]  1 of 1 completed\n"
     ]
    },
    {
     "name": "stdout",
     "output_type": "stream",
     "text": [
      "Fetching data for: BND\n",
      "Fetching data for: AGG\n"
     ]
    },
    {
     "name": "stderr",
     "output_type": "stream",
     "text": [
      "[*********************100%***********************]  1 of 1 completed\n",
      "[*********************100%***********************]  1 of 1 completed\n"
     ]
    },
    {
     "name": "stdout",
     "output_type": "stream",
     "text": [
      "Fetching data for: SHY\n",
      "Fetching data for: IEF\n"
     ]
    },
    {
     "name": "stderr",
     "output_type": "stream",
     "text": [
      "[*********************100%***********************]  1 of 1 completed\n",
      "[*********************100%***********************]  1 of 1 completed\n"
     ]
    },
    {
     "name": "stdout",
     "output_type": "stream",
     "text": [
      "Fetching data for: LQD\n",
      "Fetching data for: TIP\n"
     ]
    },
    {
     "name": "stderr",
     "output_type": "stream",
     "text": [
      "[*********************100%***********************]  1 of 1 completed\n",
      "[*********************100%***********************]  1 of 1 completed\n"
     ]
    },
    {
     "name": "stdout",
     "output_type": "stream",
     "text": [
      "Fetching data for: IEI\n",
      "Fetching data for: HYG\n"
     ]
    },
    {
     "name": "stderr",
     "output_type": "stream",
     "text": [
      "[*********************100%***********************]  1 of 1 completed\n",
      "[*********************100%***********************]  1 of 1 completed\n"
     ]
    },
    {
     "name": "stdout",
     "output_type": "stream",
     "text": [
      "Fetching data for: MUB\n",
      "Fetching data for: BSV\n"
     ]
    },
    {
     "name": "stderr",
     "output_type": "stream",
     "text": [
      "[*********************100%***********************]  1 of 1 completed\n",
      "[*********************100%***********************]  1 of 1 completed\n"
     ]
    },
    {
     "name": "stdout",
     "output_type": "stream",
     "text": [
      "Fetching data for: BIV\n",
      "Fetching data for: GLD\n"
     ]
    },
    {
     "name": "stderr",
     "output_type": "stream",
     "text": [
      "[*********************100%***********************]  1 of 1 completed\n",
      "[*********************100%***********************]  1 of 1 completed\n",
      "[*********************100%***********************]  1 of 1 completed\n"
     ]
    },
    {
     "name": "stdout",
     "output_type": "stream",
     "text": [
      "Fetching data for: SLV\n",
      "Fetching data for: DBB\n",
      "Fetching data for: DBA\n"
     ]
    },
    {
     "name": "stderr",
     "output_type": "stream",
     "text": [
      "[*********************100%***********************]  1 of 1 completed\n",
      "[*********************100%***********************]  1 of 1 completed\n",
      "[*********************100%***********************]  1 of 1 completed\n"
     ]
    },
    {
     "name": "stdout",
     "output_type": "stream",
     "text": [
      "Fetching data for: USO\n",
      "Fetching data for: PPLT\n",
      "Fetching data for: PALL\n"
     ]
    },
    {
     "name": "stderr",
     "output_type": "stream",
     "text": [
      "[*********************100%***********************]  1 of 1 completed\n",
      "[*********************100%***********************]  1 of 1 completed\n",
      "[*********************100%***********************]  1 of 1 completed\n"
     ]
    },
    {
     "name": "stdout",
     "output_type": "stream",
     "text": [
      "Fetching data for: CPER\n",
      "Fetching data for: UGA\n",
      "Fetching data for: COMT\n"
     ]
    },
    {
     "name": "stderr",
     "output_type": "stream",
     "text": [
      "[*********************100%***********************]  1 of 1 completed\n",
      "[*********************100%***********************]  1 of 1 completed\n",
      "[*********************100%***********************]  1 of 1 completed\n"
     ]
    },
    {
     "name": "stdout",
     "output_type": "stream",
     "text": [
      "Fetching data for: SGOL\n",
      "Fetching data for: UGAZ\n",
      "Fetching data for: BOIL\n"
     ]
    },
    {
     "name": "stderr",
     "output_type": "stream",
     "text": [
      "[*********************100%***********************]  1 of 1 completed\n",
      "[*********************100%***********************]  1 of 1 completed\n"
     ]
    },
    {
     "name": "stdout",
     "output_type": "stream",
     "text": [
      "Fetching data for: VNQ\n",
      "Fetching data for: O\n"
     ]
    },
    {
     "name": "stderr",
     "output_type": "stream",
     "text": [
      "[*********************100%***********************]  1 of 1 completed\n",
      "[*********************100%***********************]  1 of 1 completed\n",
      "[*********************100%***********************]  1 of 1 completed\n"
     ]
    },
    {
     "name": "stdout",
     "output_type": "stream",
     "text": [
      "Fetching data for: PLD\n",
      "Fetching data for: AMT\n",
      "Fetching data for: CCI\n"
     ]
    },
    {
     "name": "stderr",
     "output_type": "stream",
     "text": [
      "[*********************100%***********************]  1 of 1 completed\n",
      "[*********************100%***********************]  1 of 1 completed\n"
     ]
    },
    {
     "name": "stdout",
     "output_type": "stream",
     "text": [
      "Fetching data for: SPG\n",
      "Fetching data for: DLR\n"
     ]
    },
    {
     "name": "stderr",
     "output_type": "stream",
     "text": [
      "[*********************100%***********************]  1 of 1 completed\n",
      "[*********************100%***********************]  1 of 1 completed\n"
     ]
    },
    {
     "name": "stdout",
     "output_type": "stream",
     "text": [
      "Fetching data for: AVB\n",
      "Fetching data for: SBAC\n"
     ]
    },
    {
     "name": "stderr",
     "output_type": "stream",
     "text": [
      "[*********************100%***********************]  1 of 1 completed\n",
      "[*********************100%***********************]  1 of 1 completed\n"
     ]
    },
    {
     "name": "stdout",
     "output_type": "stream",
     "text": [
      "Fetching data for: EQR\n",
      "Fetching data for: FRT\n"
     ]
    },
    {
     "name": "stderr",
     "output_type": "stream",
     "text": [
      "[*********************100%***********************]  1 of 1 completed\n",
      "[*********************100%***********************]  1 of 1 completed\n"
     ]
    },
    {
     "name": "stdout",
     "output_type": "stream",
     "text": [
      "Fetching data for: HPP\n",
      "Fetching data for: IVV\n"
     ]
    },
    {
     "name": "stderr",
     "output_type": "stream",
     "text": [
      "[*********************100%***********************]  1 of 1 completed\n",
      "[*********************100%***********************]  1 of 1 completed\n"
     ]
    },
    {
     "name": "stdout",
     "output_type": "stream",
     "text": [
      "Fetching data for: SCHX\n",
      "Fetching data for: SWPPX\n"
     ]
    },
    {
     "name": "stderr",
     "output_type": "stream",
     "text": [
      "[*********************100%***********************]  1 of 1 completed\n",
      "[*********************100%***********************]  1 of 1 completed\n"
     ]
    },
    {
     "name": "stdout",
     "output_type": "stream",
     "text": [
      "Fetching data for: FXAIX\n",
      "Fetching data for: VFINX\n"
     ]
    },
    {
     "name": "stderr",
     "output_type": "stream",
     "text": [
      "[*********************100%***********************]  1 of 1 completed\n",
      "[*********************100%***********************]  1 of 1 completed\n"
     ]
    },
    {
     "name": "stdout",
     "output_type": "stream",
     "text": [
      "Fetching data for: VINIX\n",
      "Fetching data for: VFIAX\n"
     ]
    },
    {
     "name": "stderr",
     "output_type": "stream",
     "text": [
      "[*********************100%***********************]  1 of 1 completed\n",
      "[*********************100%***********************]  1 of 1 completed\n"
     ]
    },
    {
     "name": "stdout",
     "output_type": "stream",
     "text": [
      "Fetching data for: SPYG\n",
      "Fetching data for: SWTSX\n"
     ]
    },
    {
     "name": "stderr",
     "output_type": "stream",
     "text": [
      "[*********************100%***********************]  1 of 1 completed\n",
      "[*********************100%***********************]  1 of 1 completed\n"
     ]
    },
    {
     "name": "stdout",
     "output_type": "stream",
     "text": [
      "Fetching data for: VITSX\n",
      "Fetching data for: PREIX\n"
     ]
    },
    {
     "name": "stderr",
     "output_type": "stream",
     "text": [
      "[*********************100%***********************]  1 of 1 completed\n"
     ]
    },
    {
     "name": "stdout",
     "output_type": "stream",
     "text": [
      "✅ Done! Saved as weekly_stock_price_data.csv\n"
     ]
    }
   ],
   "source": [
    "import pandas as pd\n",
    "import yfinance as yf\n",
    "\n",
    "# Load tickers from your CSV\n",
    "tickers_df = pd.read_csv(\"financial_symbols.csv\")  # Update filename if needed\n",
    "tickers = tickers_df[\"Symbol\"].dropna().unique().tolist()\n",
    "\n",
    "# Date range and interval\n",
    "start_date = \"2015-01-01\"\n",
    "end_date = \"2025-01-01\"\n",
    "interval = \"1wk\"\n",
    "\n",
    "# Collect data\n",
    "all_data = []\n",
    "\n",
    "for ticker in tickers:\n",
    "    print(f\"Fetching data for: {ticker}\")\n",
    "    df = yf.download(ticker, start=start_date, end=end_date, interval=interval)\n",
    "    df.reset_index(inplace=True)\n",
    "    df[\"stock\"] = ticker\n",
    "    df = df[[\"stock\", \"Date\", \"Open\", \"Close\", \"High\", \"Low\", \"Volume\"]]\n",
    "    df.columns = [\"stock\", \"date\", \"open\", \"close\", \"high\", \"low\", \"volume\"]\n",
    "    all_data.append(df)\n",
    "\n",
    "# Combine all\n",
    "final_df = pd.concat(all_data)\n",
    "\n",
    "# Save to CSV\n",
    "final_df.to_csv(\"weekly_stock_price_data.csv\", index=False)\n",
    "print(\"✅ Done! Saved as weekly_stock_price_data.csv\")\n"
   ]
  },
  {
   "cell_type": "code",
   "execution_count": null,
   "metadata": {},
   "outputs": [],
   "source": []
  }
 ],
 "metadata": {
  "kernelspec": {
   "display_name": "Python 3",
   "language": "python",
   "name": "python3"
  },
  "language_info": {
   "codemirror_mode": {
    "name": "ipython",
    "version": 3
   },
   "file_extension": ".py",
   "mimetype": "text/x-python",
   "name": "python",
   "nbconvert_exporter": "python",
   "pygments_lexer": "ipython3",
   "version": "3.9.6"
  }
 },
 "nbformat": 4,
 "nbformat_minor": 2
}
